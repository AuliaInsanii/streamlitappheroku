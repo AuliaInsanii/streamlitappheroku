{
 "cells": [
  {
   "cell_type": "markdown",
   "metadata": {},
   "source": [
    "## Import libraries"
   ]
  },
  {
   "cell_type": "code",
   "execution_count": 1,
   "metadata": {},
   "outputs": [],
   "source": [
    "import numpy as np\n",
    "import pandas as pd\n",
    "import seaborn as sns\n",
    "import matplotlib.pyplot as plt\n",
    "%matplotlib inline"
   ]
  },
  {
   "cell_type": "markdown",
   "metadata": {},
   "source": [
    "## Import dataset"
   ]
  },
  {
   "cell_type": "code",
   "execution_count": 2,
   "metadata": {},
   "outputs": [
    {
     "data": {
      "text/html": [
       "<div>\n",
       "<style scoped>\n",
       "    .dataframe tbody tr th:only-of-type {\n",
       "        vertical-align: middle;\n",
       "    }\n",
       "\n",
       "    .dataframe tbody tr th {\n",
       "        vertical-align: top;\n",
       "    }\n",
       "\n",
       "    .dataframe thead th {\n",
       "        text-align: right;\n",
       "    }\n",
       "</style>\n",
       "<table border=\"1\" class=\"dataframe\">\n",
       "  <thead>\n",
       "    <tr style=\"text-align: right;\">\n",
       "      <th></th>\n",
       "      <th>feeling nervous</th>\n",
       "      <th>panic</th>\n",
       "      <th>breathing rapidly</th>\n",
       "      <th>sweating</th>\n",
       "      <th>having trouble in concentration</th>\n",
       "      <th>having trouble in sleeping</th>\n",
       "      <th>having trouble with work</th>\n",
       "      <th>feel hopeless</th>\n",
       "      <th>feel angry</th>\n",
       "      <th>over react</th>\n",
       "      <th>...</th>\n",
       "      <th>gained weight</th>\n",
       "      <th>have material possessions</th>\n",
       "      <th>an introvert</th>\n",
       "      <th>a popping up stressful memory</th>\n",
       "      <th>having nightmares</th>\n",
       "      <th>avoid people or activities</th>\n",
       "      <th>feel negative</th>\n",
       "      <th>trouble concentrating</th>\n",
       "      <th>blamming yourself</th>\n",
       "      <th>Disorder</th>\n",
       "    </tr>\n",
       "  </thead>\n",
       "  <tbody>\n",
       "    <tr>\n",
       "      <th>0</th>\n",
       "      <td>no</td>\n",
       "      <td>yes</td>\n",
       "      <td>yes</td>\n",
       "      <td>no</td>\n",
       "      <td>no</td>\n",
       "      <td>yes</td>\n",
       "      <td>yes</td>\n",
       "      <td>no</td>\n",
       "      <td>yes</td>\n",
       "      <td>yes</td>\n",
       "      <td>...</td>\n",
       "      <td>no</td>\n",
       "      <td>no</td>\n",
       "      <td>yes</td>\n",
       "      <td>yes</td>\n",
       "      <td>yes</td>\n",
       "      <td>yes</td>\n",
       "      <td>no</td>\n",
       "      <td>yes</td>\n",
       "      <td>yes</td>\n",
       "      <td>Normal</td>\n",
       "    </tr>\n",
       "    <tr>\n",
       "      <th>1</th>\n",
       "      <td>yes</td>\n",
       "      <td>yes</td>\n",
       "      <td>yes</td>\n",
       "      <td>yes</td>\n",
       "      <td>no</td>\n",
       "      <td>yes</td>\n",
       "      <td>no</td>\n",
       "      <td>yes</td>\n",
       "      <td>yes</td>\n",
       "      <td>yes</td>\n",
       "      <td>...</td>\n",
       "      <td>yes</td>\n",
       "      <td>no</td>\n",
       "      <td>no</td>\n",
       "      <td>no</td>\n",
       "      <td>no</td>\n",
       "      <td>yes</td>\n",
       "      <td>yes</td>\n",
       "      <td>yes</td>\n",
       "      <td>yes</td>\n",
       "      <td>Anxiety</td>\n",
       "    </tr>\n",
       "    <tr>\n",
       "      <th>2</th>\n",
       "      <td>yes</td>\n",
       "      <td>yes</td>\n",
       "      <td>no</td>\n",
       "      <td>yes</td>\n",
       "      <td>no</td>\n",
       "      <td>yes</td>\n",
       "      <td>yes</td>\n",
       "      <td>yes</td>\n",
       "      <td>yes</td>\n",
       "      <td>no</td>\n",
       "      <td>...</td>\n",
       "      <td>yes</td>\n",
       "      <td>no</td>\n",
       "      <td>yes</td>\n",
       "      <td>yes</td>\n",
       "      <td>yes</td>\n",
       "      <td>no</td>\n",
       "      <td>no</td>\n",
       "      <td>yes</td>\n",
       "      <td>yes</td>\n",
       "      <td>Depression</td>\n",
       "    </tr>\n",
       "    <tr>\n",
       "      <th>3</th>\n",
       "      <td>yes</td>\n",
       "      <td>yes</td>\n",
       "      <td>yes</td>\n",
       "      <td>no</td>\n",
       "      <td>yes</td>\n",
       "      <td>yes</td>\n",
       "      <td>yes</td>\n",
       "      <td>yes</td>\n",
       "      <td>yes</td>\n",
       "      <td>no</td>\n",
       "      <td>...</td>\n",
       "      <td>yes</td>\n",
       "      <td>yes</td>\n",
       "      <td>yes</td>\n",
       "      <td>yes</td>\n",
       "      <td>yes</td>\n",
       "      <td>no</td>\n",
       "      <td>yes</td>\n",
       "      <td>yes</td>\n",
       "      <td>yes</td>\n",
       "      <td>Loneliness</td>\n",
       "    </tr>\n",
       "    <tr>\n",
       "      <th>4</th>\n",
       "      <td>yes</td>\n",
       "      <td>yes</td>\n",
       "      <td>no</td>\n",
       "      <td>no</td>\n",
       "      <td>no</td>\n",
       "      <td>no</td>\n",
       "      <td>yes</td>\n",
       "      <td>no</td>\n",
       "      <td>yes</td>\n",
       "      <td>yes</td>\n",
       "      <td>...</td>\n",
       "      <td>no</td>\n",
       "      <td>yes</td>\n",
       "      <td>yes</td>\n",
       "      <td>yes</td>\n",
       "      <td>no</td>\n",
       "      <td>no</td>\n",
       "      <td>no</td>\n",
       "      <td>yes</td>\n",
       "      <td>yes</td>\n",
       "      <td>Stress</td>\n",
       "    </tr>\n",
       "  </tbody>\n",
       "</table>\n",
       "<p>5 rows × 25 columns</p>\n",
       "</div>"
      ],
      "text/plain": [
       "  feeling nervous panic breathing rapidly sweating  \\\n",
       "0              no   yes               yes       no   \n",
       "1             yes   yes               yes      yes   \n",
       "2             yes   yes                no      yes   \n",
       "3             yes   yes               yes       no   \n",
       "4             yes   yes                no       no   \n",
       "\n",
       "  having trouble in concentration having trouble in sleeping  \\\n",
       "0                              no                        yes   \n",
       "1                              no                        yes   \n",
       "2                              no                        yes   \n",
       "3                             yes                        yes   \n",
       "4                              no                         no   \n",
       "\n",
       "  having trouble with work feel hopeless feel angry over react  ...  \\\n",
       "0                      yes            no        yes        yes  ...   \n",
       "1                       no           yes        yes        yes  ...   \n",
       "2                      yes           yes        yes         no  ...   \n",
       "3                      yes           yes        yes         no  ...   \n",
       "4                      yes            no        yes        yes  ...   \n",
       "\n",
       "  gained weight have material possessions an introvert  \\\n",
       "0            no                        no          yes   \n",
       "1           yes                        no           no   \n",
       "2           yes                        no          yes   \n",
       "3           yes                       yes          yes   \n",
       "4            no                       yes          yes   \n",
       "\n",
       "  a popping up stressful memory having nightmares avoid people or activities  \\\n",
       "0                           yes               yes                        yes   \n",
       "1                            no                no                        yes   \n",
       "2                           yes               yes                         no   \n",
       "3                           yes               yes                         no   \n",
       "4                           yes                no                         no   \n",
       "\n",
       "  feel negative trouble concentrating blamming yourself    Disorder  \n",
       "0            no                   yes               yes      Normal  \n",
       "1           yes                   yes               yes     Anxiety  \n",
       "2            no                   yes               yes  Depression  \n",
       "3           yes                   yes               yes  Loneliness  \n",
       "4            no                   yes               yes      Stress  \n",
       "\n",
       "[5 rows x 25 columns]"
      ]
     },
     "execution_count": 2,
     "metadata": {},
     "output_type": "execute_result"
    }
   ],
   "source": [
    "df = pd.read_csv(\"Data\\dataset3.csv\")\n",
    "df.head()"
   ]
  },
  {
   "cell_type": "markdown",
   "metadata": {},
   "source": [
    "## Observing data"
   ]
  },
  {
   "cell_type": "code",
   "execution_count": 3,
   "metadata": {},
   "outputs": [],
   "source": [
    "columns = df.columns"
   ]
  },
  {
   "cell_type": "code",
   "execution_count": 4,
   "metadata": {},
   "outputs": [
    {
     "name": "stdout",
     "output_type": "stream",
     "text": [
      "feeling nervous Unique values :  ['no' 'yes']\n",
      "panic Unique values :  ['yes' 'no']\n",
      "breathing rapidly Unique values :  ['yes' 'no']\n",
      "sweating Unique values :  ['no' 'yes']\n",
      "having trouble in concentration Unique values :  ['no' 'yes']\n",
      "having trouble in sleeping Unique values :  ['yes' 'no']\n",
      "having trouble with work Unique values :  ['yes' 'no']\n",
      "feel hopeless Unique values :  ['no' 'yes']\n",
      "feel angry Unique values :  ['yes' 'no']\n",
      "over react Unique values :  ['yes' 'no']\n",
      "have changes in eating Unique values :  ['yes' 'no']\n",
      "have suicidal thought Unique values :  ['yes' 'no']\n",
      "feeling tired Unique values :  ['yes' 'no']\n",
      "have a close friend Unique values :  ['yes' 'no']\n",
      "have a social media addiction Unique values :  ['yes' 'no']\n",
      "gained weight Unique values :  ['no' 'yes']\n",
      "have material possessions Unique values :  ['no' 'yes']\n",
      "an introvert Unique values :  ['yes' 'no']\n",
      "a popping up stressful memory Unique values :  ['yes' 'no']\n",
      "having nightmares Unique values :  ['yes' 'no']\n",
      "avoid people or activities Unique values :  ['yes' 'no']\n",
      "feel negative Unique values :  ['no' 'yes']\n",
      "trouble concentrating Unique values :  ['yes' 'no']\n",
      "blamming yourself Unique values :  ['yes' 'no']\n",
      "Disorder Unique values :  ['Normal' 'Anxiety' 'Depression' 'Loneliness' 'Stress']\n"
     ]
    }
   ],
   "source": [
    "for i in columns:\n",
    "    print(i + \" Unique values : \" , df[i].unique())\n"
   ]
  },
  {
   "cell_type": "code",
   "execution_count": 5,
   "metadata": {},
   "outputs": [
    {
     "data": {
      "text/plain": [
       "feeling nervous                    0\n",
       "panic                              0\n",
       "breathing rapidly                  0\n",
       "sweating                           0\n",
       "having trouble in concentration    0\n",
       "having trouble in sleeping         0\n",
       "having trouble with work           0\n",
       "feel hopeless                      0\n",
       "feel angry                         0\n",
       "over react                         0\n",
       "have changes in eating             0\n",
       "have suicidal thought              0\n",
       "feeling tired                      0\n",
       "have a close friend                0\n",
       "have a social media addiction      0\n",
       "gained weight                      0\n",
       "have material possessions          0\n",
       "an introvert                       0\n",
       "a popping up stressful memory      0\n",
       "having nightmares                  0\n",
       "avoid people or activities         0\n",
       "feel negative                      0\n",
       "trouble concentrating              0\n",
       "blamming yourself                  0\n",
       "Disorder                           0\n",
       "dtype: int64"
      ]
     },
     "execution_count": 5,
     "metadata": {},
     "output_type": "execute_result"
    }
   ],
   "source": [
    "df.isnull().sum()"
   ]
  },
  {
   "cell_type": "code",
   "execution_count": 6,
   "metadata": {},
   "outputs": [
    {
     "data": {
      "text/plain": [
       "feeling nervous                    object\n",
       "panic                              object\n",
       "breathing rapidly                  object\n",
       "sweating                           object\n",
       "having trouble in concentration    object\n",
       "having trouble in sleeping         object\n",
       "having trouble with work           object\n",
       "feel hopeless                      object\n",
       "feel angry                         object\n",
       "over react                         object\n",
       "have changes in eating             object\n",
       "have suicidal thought              object\n",
       "feeling tired                      object\n",
       "have a close friend                object\n",
       "have a social media addiction      object\n",
       "gained weight                      object\n",
       "have material possessions          object\n",
       "an introvert                       object\n",
       "a popping up stressful memory      object\n",
       "having nightmares                  object\n",
       "avoid people or activities         object\n",
       "feel negative                      object\n",
       "trouble concentrating              object\n",
       "blamming yourself                  object\n",
       "Disorder                           object\n",
       "dtype: object"
      ]
     },
     "execution_count": 6,
     "metadata": {},
     "output_type": "execute_result"
    }
   ],
   "source": [
    "df.dtypes"
   ]
  },
  {
   "cell_type": "markdown",
   "metadata": {},
   "source": [
    "## Visualizations"
   ]
  },
  {
   "cell_type": "code",
   "execution_count": 7,
   "metadata": {},
   "outputs": [
    {
     "data": {
      "image/png": "[encoded data removed]",
      "text/plain": [
       "<Figure size 1080x360 with 1 Axes>"
      ]
     },
     "metadata": {
      "needs_background": "light"
     },
     "output_type": "display_data"
    }
   ],
   "source": [
    "#Data visualization\n",
    "\n",
    "#Target column data\n",
    "plt.figure(figsize=(15,5))\n",
    "sns.countplot(x ='Disorder', data = df)\n",
    "plt.xlabel('Disorder', size = 15)\n",
    "plt.ylabel('Identified number of patients', size = 15)\n",
    "plt.title('Diagnosed disorders of patients with counts', color = 'green', size = 25)\n",
    "plt.show()"
   ]
  },
  {
   "cell_type": "code",
   "execution_count": 8,
   "metadata": {},
   "outputs": [
    {
     "data": {
      "image/png": "[encoded data removed]",
      "text/plain": [
       "<Figure size 432x288 with 1 Axes>"
      ]
     },
     "metadata": {
      "needs_background": "light"
     },
     "output_type": "display_data"
    },
    {
     "data": {
      "image/png": "[encoded data removed]",
      "text/plain": [
       "<Figure size 432x288 with 1 Axes>"
      ]
     },
     "metadata": {
      "needs_background": "light"
     },
     "output_type": "display_data"
    },
    {
     "data": {
      "image/png": "[encoded data removed]",
      "text/plain": [
       "<Figure size 432x288 with 1 Axes>"
      ]
     },
     "metadata": {
      "needs_background": "light"
     },
     "output_type": "display_data"
    },
    {
     "data": {
      "image/png": "[encoded data removed]",
      "text/plain": [
       "<Figure size 432x288 with 1 Axes>"
      ]
     },
     "metadata": {
      "needs_background": "light"
     },
     "output_type": "display_data"
    },
    {
     "data": {
      "image/png": "[encoded data removed]",
      "text/plain": [
       "<Figure size 432x288 with 1 Axes>"
      ]
     },
     "metadata": {
      "needs_background": "light"
     },
     "output_type": "display_data"
    },
    {
     "data": {
      "image/png": "[encoded data removed]",
      "text/plain": [
       "<Figure size 432x288 with 1 Axes>"
      ]
     },
     "metadata": {
      "needs_background": "light"
     },
     "output_type": "display_data"
    },
    {
     "data": {
      "image/png": "[encoded data removed]",
      "text/plain": [
       "<Figure size 432x288 with 1 Axes>"
      ]
     },
     "metadata": {
      "needs_background": "light"
     },
     "output_type": "display_data"
    },
    {
     "data": {
      "image/png": "[encoded data removed]",
      "text/plain": [
       "<Figure size 432x288 with 1 Axes>"
      ]
     },
     "metadata": {
      "needs_background": "light"
     },
     "output_type": "display_data"
    },
    {
     "data": {
      "image/png": "[encoded data removed]",
      "text/plain": [
       "<Figure size 432x288 with 1 Axes>"
      ]
     },
     "metadata": {
      "needs_background": "light"
     },
     "output_type": "display_data"
    },
    {
     "data": {
      "image/png": "[encoded data removed]",
      "text/plain": [
       "<Figure size 432x288 with 1 Axes>"
      ]
     },
     "metadata": {
      "needs_background": "light"
     },
     "output_type": "display_data"
    },
    {
     "data": {
      "image/png": "[encoded data removed]",
      "text/plain": [
       "<Figure size 432x288 with 1 Axes>"
      ]
     },
     "metadata": {
      "needs_background": "light"
     },
     "output_type": "display_data"
    },
    {
     "data": {
      "image/png": "[encoded data removed]",
      "text/plain": [
       "<Figure size 432x288 with 1 Axes>"
      ]
     },
     "metadata": {
      "needs_background": "light"
     },
     "output_type": "display_data"
    },
    {
     "data": {
      "image/png": "[encoded data removed]",
      "text/plain": [
       "<Figure size 432x288 with 1 Axes>"
      ]
     },
     "metadata": {
      "needs_background": "light"
     },
     "output_type": "display_data"
    },
    {
     "data": {
      "image/png": "[encoded data removed]",
      "text/plain": [
       "<Figure size 432x288 with 1 Axes>"
      ]
     },
     "metadata": {
      "needs_background": "light"
     },
     "output_type": "display_data"
    },
    {
     "data": {
      "image/png": "[encoded data removed]",
      "text/plain": [
       "<Figure size 432x288 with 1 Axes>"
      ]
     },
     "metadata": {
      "needs_background": "light"
     },
     "output_type": "display_data"
    },
    {
     "data": {
      "image/png": "[encoded data removed]",
      "text/plain": [
       "<Figure size 432x288 with 1 Axes>"
      ]
     },
     "metadata": {
      "needs_background": "light"
     },
     "output_type": "display_data"
    },
    {
     "data": {
      "image/png": "[encoded data removed]",
      "text/plain": [
       "<Figure size 432x288 with 1 Axes>"
      ]
     },
     "metadata": {
      "needs_background": "light"
     },
     "output_type": "display_data"
    },
    {
     "data": {
      "image/png": "[encoded data removed]",
      "text/plain": [
       "<Figure size 432x288 with 1 Axes>"
      ]
     },
     "metadata": {
      "needs_background": "light"
     },
     "output_type": "display_data"
    },
    {
     "data": {
      "image/png": "[encoded data removed]",
      "text/plain": [
       "<Figure size 432x288 with 1 Axes>"
      ]
     },
     "metadata": {
      "needs_background": "light"
     },
     "output_type": "display_data"
    },
    {
     "data": {
      "image/png": "[encoded data removed]",
      "text/plain": [
       "<Figure size 432x288 with 1 Axes>"
      ]
     },
     "metadata": {
      "needs_background": "light"
     },
     "output_type": "display_data"
    },
    {
     "data": {
      "image/png": "[encoded data removed]",
      "text/plain": [
       "<Figure size 432x288 with 1 Axes>"
      ]
     },
     "metadata": {
      "needs_background": "light"
     },
     "output_type": "display_data"
    },
    {
     "data": {
      "image/png": "[encoded data removed]",
      "text/plain": [
       "<Figure size 432x288 with 1 Axes>"
      ]
     },
     "metadata": {
      "needs_background": "light"
     },
     "output_type": "display_data"
    },
    {
     "data": {
      "image/png": "[encoded data removed]",
      "text/plain": [
       "<Figure size 432x288 with 1 Axes>"
      ]
     },
     "metadata": {
      "needs_background": "light"
     },
     "output_type": "display_data"
    },
    {
     "data": {
      "image/png": "[encoded data removed]",
      "text/plain": [
       "<Figure size 432x288 with 1 Axes>"
      ]
     },
     "metadata": {
      "needs_background": "light"
     },
     "output_type": "display_data"
    }
   ],
   "source": [
    "variables = [\"feeling nervous\", \"panic\", \"breathing rapidly\", \"sweating\", \"having trouble in concentration\", \"having trouble in sleeping\", \"having trouble with work\",\n",
    "             \"feel hopeless\", \"feel angry\", \"over react\", \"have changes in eating\", \"have suicidal thought\", \"feeling tired\", \"have a close friend\",\n",
    "             \"have a social media addiction\", \"gained weight\", \"have material possessions\", \"an introvert\", \"a popping up stressful memory\", \"having nightmares\",\n",
    "             \"avoid people or activities\", \"feel negative\", \"trouble concentrating\", \"blamming yourself\"]\n",
    "for v in variables:\n",
    "  sns.countplot(x = v, data = df)\n",
    "  plt.show()"
   ]
  },
  {
   "cell_type": "markdown",
   "metadata": {},
   "source": [
    "## Converting string data to boolean data type"
   ]
  },
  {
   "cell_type": "code",
   "execution_count": 9,
   "metadata": {},
   "outputs": [
    {
     "data": {
      "text/html": [
       "<div>\n",
       "<style scoped>\n",
       "    .dataframe tbody tr th:only-of-type {\n",
       "        vertical-align: middle;\n",
       "    }\n",
       "\n",
       "    .dataframe tbody tr th {\n",
       "        vertical-align: top;\n",
       "    }\n",
       "\n",
       "    .dataframe thead th {\n",
       "        text-align: right;\n",
       "    }\n",
       "</style>\n",
       "<table border=\"1\" class=\"dataframe\">\n",
       "  <thead>\n",
       "    <tr style=\"text-align: right;\">\n",
       "      <th></th>\n",
       "      <th>feeling nervous</th>\n",
       "      <th>panic</th>\n",
       "      <th>breathing rapidly</th>\n",
       "      <th>sweating</th>\n",
       "      <th>having trouble in concentration</th>\n",
       "      <th>having trouble in sleeping</th>\n",
       "      <th>having trouble with work</th>\n",
       "      <th>feel hopeless</th>\n",
       "      <th>feel angry</th>\n",
       "      <th>over react</th>\n",
       "      <th>...</th>\n",
       "      <th>have a social media addiction</th>\n",
       "      <th>gained weight</th>\n",
       "      <th>have material possessions</th>\n",
       "      <th>an introvert</th>\n",
       "      <th>a popping up stressful memory</th>\n",
       "      <th>having nightmares</th>\n",
       "      <th>avoid people or activities</th>\n",
       "      <th>feel negative</th>\n",
       "      <th>trouble concentrating</th>\n",
       "      <th>blamming yourself</th>\n",
       "    </tr>\n",
       "  </thead>\n",
       "  <tbody>\n",
       "    <tr>\n",
       "      <th>0</th>\n",
       "      <td>False</td>\n",
       "      <td>True</td>\n",
       "      <td>True</td>\n",
       "      <td>False</td>\n",
       "      <td>False</td>\n",
       "      <td>True</td>\n",
       "      <td>True</td>\n",
       "      <td>False</td>\n",
       "      <td>True</td>\n",
       "      <td>True</td>\n",
       "      <td>...</td>\n",
       "      <td>True</td>\n",
       "      <td>False</td>\n",
       "      <td>False</td>\n",
       "      <td>True</td>\n",
       "      <td>True</td>\n",
       "      <td>True</td>\n",
       "      <td>True</td>\n",
       "      <td>False</td>\n",
       "      <td>True</td>\n",
       "      <td>True</td>\n",
       "    </tr>\n",
       "    <tr>\n",
       "      <th>1</th>\n",
       "      <td>True</td>\n",
       "      <td>True</td>\n",
       "      <td>True</td>\n",
       "      <td>True</td>\n",
       "      <td>False</td>\n",
       "      <td>True</td>\n",
       "      <td>False</td>\n",
       "      <td>True</td>\n",
       "      <td>True</td>\n",
       "      <td>True</td>\n",
       "      <td>...</td>\n",
       "      <td>True</td>\n",
       "      <td>True</td>\n",
       "      <td>False</td>\n",
       "      <td>False</td>\n",
       "      <td>False</td>\n",
       "      <td>False</td>\n",
       "      <td>True</td>\n",
       "      <td>True</td>\n",
       "      <td>True</td>\n",
       "      <td>True</td>\n",
       "    </tr>\n",
       "    <tr>\n",
       "      <th>2</th>\n",
       "      <td>True</td>\n",
       "      <td>True</td>\n",
       "      <td>False</td>\n",
       "      <td>True</td>\n",
       "      <td>False</td>\n",
       "      <td>True</td>\n",
       "      <td>True</td>\n",
       "      <td>True</td>\n",
       "      <td>True</td>\n",
       "      <td>False</td>\n",
       "      <td>...</td>\n",
       "      <td>True</td>\n",
       "      <td>True</td>\n",
       "      <td>False</td>\n",
       "      <td>True</td>\n",
       "      <td>True</td>\n",
       "      <td>True</td>\n",
       "      <td>False</td>\n",
       "      <td>False</td>\n",
       "      <td>True</td>\n",
       "      <td>True</td>\n",
       "    </tr>\n",
       "    <tr>\n",
       "      <th>3</th>\n",
       "      <td>True</td>\n",
       "      <td>True</td>\n",
       "      <td>True</td>\n",
       "      <td>False</td>\n",
       "      <td>True</td>\n",
       "      <td>True</td>\n",
       "      <td>True</td>\n",
       "      <td>True</td>\n",
       "      <td>True</td>\n",
       "      <td>False</td>\n",
       "      <td>...</td>\n",
       "      <td>True</td>\n",
       "      <td>True</td>\n",
       "      <td>True</td>\n",
       "      <td>True</td>\n",
       "      <td>True</td>\n",
       "      <td>True</td>\n",
       "      <td>False</td>\n",
       "      <td>True</td>\n",
       "      <td>True</td>\n",
       "      <td>True</td>\n",
       "    </tr>\n",
       "    <tr>\n",
       "      <th>4</th>\n",
       "      <td>True</td>\n",
       "      <td>True</td>\n",
       "      <td>False</td>\n",
       "      <td>False</td>\n",
       "      <td>False</td>\n",
       "      <td>False</td>\n",
       "      <td>True</td>\n",
       "      <td>False</td>\n",
       "      <td>True</td>\n",
       "      <td>True</td>\n",
       "      <td>...</td>\n",
       "      <td>True</td>\n",
       "      <td>False</td>\n",
       "      <td>True</td>\n",
       "      <td>True</td>\n",
       "      <td>True</td>\n",
       "      <td>False</td>\n",
       "      <td>False</td>\n",
       "      <td>False</td>\n",
       "      <td>True</td>\n",
       "      <td>True</td>\n",
       "    </tr>\n",
       "  </tbody>\n",
       "</table>\n",
       "<p>5 rows × 24 columns</p>\n",
       "</div>"
      ],
      "text/plain": [
       "   feeling nervous  panic  breathing rapidly  sweating  \\\n",
       "0            False   True               True     False   \n",
       "1             True   True               True      True   \n",
       "2             True   True              False      True   \n",
       "3             True   True               True     False   \n",
       "4             True   True              False     False   \n",
       "\n",
       "   having trouble in concentration  having trouble in sleeping  \\\n",
       "0                            False                        True   \n",
       "1                            False                        True   \n",
       "2                            False                        True   \n",
       "3                             True                        True   \n",
       "4                            False                       False   \n",
       "\n",
       "   having trouble with work  feel hopeless  feel angry  over react  ...  \\\n",
       "0                      True          False        True        True  ...   \n",
       "1                     False           True        True        True  ...   \n",
       "2                      True           True        True       False  ...   \n",
       "3                      True           True        True       False  ...   \n",
       "4                      True          False        True        True  ...   \n",
       "\n",
       "   have a social media addiction  gained weight  have material possessions  \\\n",
       "0                           True          False                      False   \n",
       "1                           True           True                      False   \n",
       "2                           True           True                      False   \n",
       "3                           True           True                       True   \n",
       "4                           True          False                       True   \n",
       "\n",
       "   an introvert  a popping up stressful memory  having nightmares  \\\n",
       "0          True                           True               True   \n",
       "1         False                          False              False   \n",
       "2          True                           True               True   \n",
       "3          True                           True               True   \n",
       "4          True                           True              False   \n",
       "\n",
       "   avoid people or activities  feel negative  trouble concentrating  \\\n",
       "0                        True          False                   True   \n",
       "1                        True           True                   True   \n",
       "2                       False          False                   True   \n",
       "3                       False           True                   True   \n",
       "4                       False          False                   True   \n",
       "\n",
       "   blamming yourself  \n",
       "0               True  \n",
       "1               True  \n",
       "2               True  \n",
       "3               True  \n",
       "4               True  \n",
       "\n",
       "[5 rows x 24 columns]"
      ]
     },
     "execution_count": 9,
     "metadata": {},
     "output_type": "execute_result"
    }
   ],
   "source": [
    "x=df.loc[:, 'feeling nervous':'blamming yourself'].replace(\"yes\", pd.Series(True, df.columns))\n",
    "x=x.loc[:, 'feeling nervous':'blamming yourself'].replace(\"no\", pd.Series(False, df.columns))\n",
    "x.head()"
   ]
  },
  {
   "cell_type": "markdown",
   "metadata": {},
   "source": [
    "# FP growth algorithm implementation"
   ]
  },
  {
   "cell_type": "code",
   "execution_count": 10,
   "metadata": {},
   "outputs": [],
   "source": [
    "from mlxtend.frequent_patterns import fpgrowth"
   ]
  },
  {
   "cell_type": "code",
   "execution_count": 11,
   "metadata": {},
   "outputs": [
    {
     "data": {
      "text/html": [
       "<div>\n",
       "<style scoped>\n",
       "    .dataframe tbody tr th:only-of-type {\n",
       "        vertical-align: middle;\n",
       "    }\n",
       "\n",
       "    .dataframe tbody tr th {\n",
       "        vertical-align: top;\n",
       "    }\n",
       "\n",
       "    .dataframe thead th {\n",
       "        text-align: right;\n",
       "    }\n",
       "</style>\n",
       "<table border=\"1\" class=\"dataframe\">\n",
       "  <thead>\n",
       "    <tr style=\"text-align: right;\">\n",
       "      <th></th>\n",
       "      <th>support</th>\n",
       "      <th>itemsets</th>\n",
       "    </tr>\n",
       "  </thead>\n",
       "  <tbody>\n",
       "    <tr>\n",
       "      <th>0</th>\n",
       "      <td>0.896707</td>\n",
       "      <td>(a popping up stressful memory)</td>\n",
       "    </tr>\n",
       "    <tr>\n",
       "      <th>1</th>\n",
       "      <td>0.893728</td>\n",
       "      <td>(trouble concentrating)</td>\n",
       "    </tr>\n",
       "    <tr>\n",
       "      <th>2</th>\n",
       "      <td>0.859623</td>\n",
       "      <td>(have a social media addiction)</td>\n",
       "    </tr>\n",
       "    <tr>\n",
       "      <th>3</th>\n",
       "      <td>0.848783</td>\n",
       "      <td>(feel angry)</td>\n",
       "    </tr>\n",
       "    <tr>\n",
       "      <th>4</th>\n",
       "      <td>0.837138</td>\n",
       "      <td>(feeling tired)</td>\n",
       "    </tr>\n",
       "    <tr>\n",
       "      <th>5</th>\n",
       "      <td>0.801738</td>\n",
       "      <td>(having trouble in sleeping)</td>\n",
       "    </tr>\n",
       "    <tr>\n",
       "      <th>6</th>\n",
       "      <td>0.750983</td>\n",
       "      <td>(having trouble with work)</td>\n",
       "    </tr>\n",
       "    <tr>\n",
       "      <th>7</th>\n",
       "      <td>0.728620</td>\n",
       "      <td>(blamming yourself)</td>\n",
       "    </tr>\n",
       "    <tr>\n",
       "      <th>8</th>\n",
       "      <td>0.710163</td>\n",
       "      <td>(have suicidal thought)</td>\n",
       "    </tr>\n",
       "    <tr>\n",
       "      <th>9</th>\n",
       "      <td>0.659530</td>\n",
       "      <td>(having nightmares)</td>\n",
       "    </tr>\n",
       "    <tr>\n",
       "      <th>10</th>\n",
       "      <td>0.649008</td>\n",
       "      <td>(an introvert)</td>\n",
       "    </tr>\n",
       "    <tr>\n",
       "      <th>11</th>\n",
       "      <td>0.550328</td>\n",
       "      <td>(have a close friend)</td>\n",
       "    </tr>\n",
       "    <tr>\n",
       "      <th>12</th>\n",
       "      <td>0.479163</td>\n",
       "      <td>(panic)</td>\n",
       "    </tr>\n",
       "    <tr>\n",
       "      <th>13</th>\n",
       "      <td>0.439784</td>\n",
       "      <td>(have changes in eating)</td>\n",
       "    </tr>\n",
       "    <tr>\n",
       "      <th>14</th>\n",
       "      <td>0.411050</td>\n",
       "      <td>(avoid people or activities)</td>\n",
       "    </tr>\n",
       "    <tr>\n",
       "      <th>15</th>\n",
       "      <td>0.358707</td>\n",
       "      <td>(over react)</td>\n",
       "    </tr>\n",
       "    <tr>\n",
       "      <th>16</th>\n",
       "      <td>0.323234</td>\n",
       "      <td>(breathing rapidly)</td>\n",
       "    </tr>\n",
       "    <tr>\n",
       "      <th>17</th>\n",
       "      <td>0.698127</td>\n",
       "      <td>(feeling nervous)</td>\n",
       "    </tr>\n",
       "    <tr>\n",
       "      <th>18</th>\n",
       "      <td>0.631625</td>\n",
       "      <td>(feel negative)</td>\n",
       "    </tr>\n",
       "    <tr>\n",
       "      <th>19</th>\n",
       "      <td>0.609702</td>\n",
       "      <td>(feel hopeless)</td>\n",
       "    </tr>\n",
       "    <tr>\n",
       "      <th>20</th>\n",
       "      <td>0.598228</td>\n",
       "      <td>(sweating)</td>\n",
       "    </tr>\n",
       "    <tr>\n",
       "      <th>21</th>\n",
       "      <td>0.358976</td>\n",
       "      <td>(gained weight)</td>\n",
       "    </tr>\n",
       "    <tr>\n",
       "      <th>22</th>\n",
       "      <td>0.432997</td>\n",
       "      <td>(have material possessions)</td>\n",
       "    </tr>\n",
       "    <tr>\n",
       "      <th>23</th>\n",
       "      <td>0.298723</td>\n",
       "      <td>(having trouble in concentration)</td>\n",
       "    </tr>\n",
       "    <tr>\n",
       "      <th>24</th>\n",
       "      <td>0.801641</td>\n",
       "      <td>(trouble concentrating, a popping up stressful...</td>\n",
       "    </tr>\n",
       "  </tbody>\n",
       "</table>\n",
       "</div>"
      ],
      "text/plain": [
       "     support                                           itemsets\n",
       "0   0.896707                    (a popping up stressful memory)\n",
       "1   0.893728                            (trouble concentrating)\n",
       "2   0.859623                    (have a social media addiction)\n",
       "3   0.848783                                       (feel angry)\n",
       "4   0.837138                                    (feeling tired)\n",
       "5   0.801738                       (having trouble in sleeping)\n",
       "6   0.750983                         (having trouble with work)\n",
       "7   0.728620                                (blamming yourself)\n",
       "8   0.710163                            (have suicidal thought)\n",
       "9   0.659530                                (having nightmares)\n",
       "10  0.649008                                     (an introvert)\n",
       "11  0.550328                              (have a close friend)\n",
       "12  0.479163                                            (panic)\n",
       "13  0.439784                           (have changes in eating)\n",
       "14  0.411050                       (avoid people or activities)\n",
       "15  0.358707                                       (over react)\n",
       "16  0.323234                                (breathing rapidly)\n",
       "17  0.698127                                  (feeling nervous)\n",
       "18  0.631625                                    (feel negative)\n",
       "19  0.609702                                    (feel hopeless)\n",
       "20  0.598228                                         (sweating)\n",
       "21  0.358976                                    (gained weight)\n",
       "22  0.432997                        (have material possessions)\n",
       "23  0.298723                  (having trouble in concentration)\n",
       "24  0.801641  (trouble concentrating, a popping up stressful..."
      ]
     },
     "execution_count": 11,
     "metadata": {},
     "output_type": "execute_result"
    }
   ],
   "source": [
    "final = fpgrowth(x, min_support=0.2 , use_colnames=True )\n",
    "final.head(25)"
   ]
  },
  {
   "cell_type": "code",
   "execution_count": 12,
   "metadata": {},
   "outputs": [
    {
     "data": {
      "text/plain": [
       "0                         (a popping up stressful memory)\n",
       "1                                 (trouble concentrating)\n",
       "2                         (have a social media addiction)\n",
       "3                                            (feel angry)\n",
       "4                                         (feeling tired)\n",
       "                              ...                        \n",
       "7317    (trouble concentrating, having trouble in conc...\n",
       "7318    (have a social media addiction, having trouble...\n",
       "7319    (feel angry, having trouble in concentration, ...\n",
       "7320    (a popping up stressful memory, having trouble...\n",
       "7321    (trouble concentrating, having trouble in conc...\n",
       "Name: itemsets, Length: 7322, dtype: object"
      ]
     },
     "execution_count": 12,
     "metadata": {},
     "output_type": "execute_result"
    }
   ],
   "source": [
    "final['itemsets']"
   ]
  },
  {
   "cell_type": "markdown",
   "metadata": {},
   "source": [
    "## Using the frequent itemset for building the system"
   ]
  },
  {
   "cell_type": "code",
   "execution_count": 13,
   "metadata": {},
   "outputs": [],
   "source": [
    "fin = final['itemsets']\n",
    "y = list()\n",
    "for i in fin:\n",
    "    y.append(list(i))"
   ]
  },
  {
   "cell_type": "code",
   "execution_count": 14,
   "metadata": {},
   "outputs": [
    {
     "data": {
      "text/plain": [
       "[['a popping up stressful memory'],\n",
       " ['trouble concentrating'],\n",
       " ['have a social media addiction'],\n",
       " ['feel angry'],\n",
       " ['feeling tired'],\n",
       " ['having trouble in sleeping'],\n",
       " ['having trouble with work'],\n",
       " ['blamming yourself'],\n",
       " ['have suicidal thought'],\n",
       " ['having nightmares'],\n",
       " ['an introvert'],\n",
       " ['have a close friend'],\n",
       " ['panic'],\n",
       " ['have changes in eating'],\n",
       " ['avoid people or activities'],\n",
       " ['over react'],\n",
       " ['breathing rapidly'],\n",
       " ['feeling nervous'],\n",
       " ['feel negative'],\n",
       " ['feel hopeless'],\n",
       " ['sweating'],\n",
       " ['gained weight']]"
      ]
     },
     "execution_count": 14,
     "metadata": {},
     "output_type": "execute_result"
    }
   ],
   "source": [
    "y[0:22]"
   ]
  },
  {
   "cell_type": "code",
   "execution_count": 15,
   "metadata": {},
   "outputs": [],
   "source": [
    "# Function to get the list with a given word if answered yes\n",
    "def getInList(word , test1): \n",
    "\n",
    "    t = [i for i in test1 if word in i]\n",
    "\n",
    "    for d in t:\n",
    "            d.remove(word)\n",
    "        \n",
    "    return t\n",
    "\n",
    "# Function to get the list without a given word if answered no\n",
    "def getNotInList(word , temp):\n",
    "    t = [i for i in temp if word not in i]\n",
    "\n",
    "    return t\n",
    "\n"
   ]
  },
  {
   "cell_type": "code",
   "execution_count": 16,
   "metadata": {},
   "outputs": [],
   "source": [
    "# Get the maximum occuring word in a given list\n",
    "def getMax(freqList):\n",
    "    fin = final['itemsets']\n",
    "    k = list()\n",
    "    for i in fin:\n",
    "        k.append(list(i))\n",
    "    u = dict()\n",
    "    for i in k[0:22]:\n",
    "        count = 0\n",
    "        for j in freqList:\n",
    "            # print(i,j)\n",
    "            if i[0] in j:\n",
    "                count+=1\n",
    "        u.update({i[0]:count})\n",
    "\n",
    "    MaxDictVal = max(u, key=u.get)\n",
    "    \n",
    "    return MaxDictVal\n",
    "\n",
    "\n",
    "    "
   ]
  },
  {
   "cell_type": "markdown",
   "metadata": {},
   "source": [
    "## Testing the built model "
   ]
  },
  {
   "cell_type": "code",
   "execution_count": 17,
   "metadata": {},
   "outputs": [
    {
     "name": "stdout",
     "output_type": "stream",
     "text": [
      "do you have  a popping up stressful memoryno\n",
      "do you have trouble concentratingno\n",
      "do you have have a social media addictionno\n",
      "do you have feel angryyes\n"
     ]
    }
   ],
   "source": [
    "tempwordlist = y\n",
    "maxword = getMax(tempwordlist)\n",
    "word = input(\"do you have  \"+ maxword)\n",
    "for i in range(0,3):\n",
    "    if word == 'yes':\n",
    "        tempwordlist = getInList(maxword ,tempwordlist)\n",
    "        print(tempwordlist)\n",
    "        maxword = getMax(tempwordlist)\n",
    "        print(maxword)\n",
    "        word = input(\"do you have \" +maxword )\n",
    "    else:\n",
    "        tempwordlist = getNotInList(maxword ,tempwordlist)\n",
    "        maxword = getMax(tempwordlist)\n",
    "        word = input(\"do you have \" +maxword )\n",
    "\n"
   ]
  },
  {
   "cell_type": "code",
   "execution_count": 18,
   "metadata": {},
   "outputs": [
    {
     "data": {
      "text/plain": [
       "['feel angry',\n",
       " 'feeling tired',\n",
       " 'having trouble in sleeping',\n",
       " 'having trouble with work',\n",
       " 'blamming yourself',\n",
       " 'have suicidal thought',\n",
       " 'having nightmares',\n",
       " 'an introvert',\n",
       " 'have a close friend',\n",
       " 'panic',\n",
       " 'have changes in eating',\n",
       " 'avoid people or activities',\n",
       " 'over react',\n",
       " 'breathing rapidly',\n",
       " 'feeling nervous',\n",
       " 'feel negative',\n",
       " 'feel hopeless',\n",
       " 'sweating',\n",
       " 'gained weight',\n",
       " 'have material possessions',\n",
       " 'having trouble in concentration']"
      ]
     },
     "execution_count": 18,
     "metadata": {},
     "output_type": "execute_result"
    }
   ],
   "source": [
    "r = list()\n",
    "for i in tempwordlist:\n",
    "    for j in i:\n",
    "        if j not in r:\n",
    "            r.append(j)\n",
    "r"
   ]
  }
 ],
 "metadata": {
  "interpreter": {
   "hash": "ee25deaa157146aa5ab983906bb6a065bee9b1c63fc59cc7edac0e5187fae9dd"
  },
  "kernelspec": {
   "display_name": "Python 3 (ipykernel)",
   "language": "python",
   "name": "python3"
  },
  "language_info": {
   "codemirror_mode": {
    "name": "ipython",
    "version": 3
   },
   "file_extension": ".py",
   "mimetype": "text/x-python",
   "name": "python",
   "nbconvert_exporter": "python",
   "pygments_lexer": "ipython3",
   "version": "3.9.12"
  }
 },
 "nbformat": 4,
 "nbformat_minor": 2
}
